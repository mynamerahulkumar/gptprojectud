{
  "nbformat": 4,
  "nbformat_minor": 0,
  "metadata": {
    "colab": {
      "provenance": []
    },
    "kernelspec": {
      "name": "python3",
      "display_name": "Python 3"
    },
    "language_info": {
      "name": "python"
    }
  },
  "cells": [
    {
      "cell_type": "markdown",
      "source": [
        "**GPT-4o (\"o\" for \"omni\") is designed to handle a combination of text, audio, and video inputs, and can generate outputs in text, audio, and image formats.**"
      ],
      "metadata": {
        "id": "4qSS3ryBIlKr"
      }
    },
    {
      "cell_type": "markdown",
      "source": [
        "**Background**\n",
        "*Before GPT-4o, users could interact with ChatGPT using Voice Mode, which operated with three separate models. GPT-4o will integrate these capabilities into a single model that's trained across text, vision, and audio. This unified approach ensures that all inputs—whether text, visual, or auditory—are processed cohesively by the same neural network.*"
      ],
      "metadata": {
        "id": "qMV7iM2sIpPA"
      }
    },
    {
      "cell_type": "markdown",
      "source": [
        "**Current API Capabilities**\n",
        "\n",
        "Currently, the API supports **{text, image}** inputs only, with **{text}** outputs, the same modalities as gpt-4-turbo. Additional modalities, including audio, will be introduced soon. This guide will help you get started with using GPT-4o for text, image, and video understanding."
      ],
      "metadata": {
        "id": "1ED6TWyhIxMN"
      }
    },
    {
      "cell_type": "markdown",
      "source": [
        "**Getting Started**\n",
        "Install OpenAI SDK for Python"
      ],
      "metadata": {
        "id": "eHTYHadpI4MW"
      }
    },
    {
      "cell_type": "markdown",
      "source": [
        "%pip install --upgrade openai --quiet"
      ],
      "metadata": {
        "id": "QJ0SOlINI9pb"
      }
    },
    {
      "cell_type": "code",
      "source": [
        "!pip install --upgrade openai --quiet"
      ],
      "metadata": {
        "id": "MUJHKisZJBSL"
      },
      "execution_count": null,
      "outputs": []
    },
    {
      "cell_type": "code",
      "source": [
        "from google.colab import userdata\n",
        "OPEN_AI_KEY=userdata.get('opeaikey4o')"
      ],
      "metadata": {
        "id": "ss8EuWjjJZvV"
      },
      "execution_count": null,
      "outputs": []
    },
    {
      "cell_type": "markdown",
      "source": [
        "**Configure the OpenAI client and submit a test request**\n",
        "To setup the client for our use, we need to create an API key to use with our request. Skip these steps if you already have an API key for usage.\n",
        "\n",
        "You can get an API key by following these steps:\n",
        "\n",
        "[Create a new project](https://help.openai.com/en/articles/9186755-managing-your-work-in-the-api-platform-with-projects)\n",
        "\n",
        "[Generate an API key in your project](https://platform.openai.com/api-keys)\n"
      ],
      "metadata": {
        "id": "3Qycnl7xJxJf"
      }
    },
    {
      "cell_type": "code",
      "source": [
        "from openai import OpenAI\n",
        "\n",
        "\n",
        "## Set the API key and model name\n",
        "MODEL=\"gpt-4o\"\n",
        "client = OpenAI(api_key=OPEN_AI_KEY)"
      ],
      "metadata": {
        "id": "MFicyIEQKMPS"
      },
      "execution_count": null,
      "outputs": []
    },
    {
      "cell_type": "code",
      "source": [
        "completion = client.chat.completions.create(\n",
        "  model=MODEL,\n",
        "  messages=[\n",
        "    {\"role\": \"system\", \"content\": \"You are a helpful assistant. Help me with my Coding problem!\"}, # <-- This is the system message that provides context to the model\n",
        "    {\"role\": \"user\", \"content\": \"Write a code for this problem-A phrase is a palindrome if, after converting all uppercase letters into lowercase letters and removing all non-alphanumeric characters, it reads the same forward and backward. Alphanumeric characters include letters and numbers.Given a string s, return true if it is a palindrome, or false otherwise.\"}  # <-- This is the user message for which the model will generate a response\n",
        "  ]\n",
        ")\n",
        "\n",
        "print(\"Assistant: \" + completion.choices[0].message.content)"
      ],
      "metadata": {
        "colab": {
          "base_uri": "https://localhost:8080/"
        },
        "id": "IHglNnO1KW15",
        "outputId": "eea168c7-923a-42db-d850-50d931c04861"
      },
      "execution_count": null,
      "outputs": [
        {
          "output_type": "stream",
          "name": "stdout",
          "text": [
            "Assistant: Sure, I can help you with that! To determine if a string `s` is a palindrome after converting all uppercase letters to lowercase and removing all non-alphanumeric characters, you can follow these steps:\n",
            "\n",
            "1. Normalize the string by converting it to lowercase.\n",
            "2. Remove all non-alphanumeric characters.\n",
            "3. Check if the resulting string reads the same forwards and backwards.\n",
            "\n",
            "Here's a Python function that accomplishes this:\n",
            "\n",
            "```python\n",
            "import re\n",
            "\n",
            "def is_palindrome(s: str) -> bool:\n",
            "    # Step 1: Normalize the string to lowercase and remove non-alphanumeric characters\n",
            "    normalized_str = re.sub(r'[^a-zA-Z0-9]', '', s).lower()\n",
            "    \n",
            "    # Step 2: Check if the normalized string is a palindrome\n",
            "    return normalized_str == normalized_str[::-1]\n",
            "\n",
            "# Example usage:\n",
            "s = \"A man, a plan, a canal: Panama\"\n",
            "print(is_palindrome(s))  # Output: True\n",
            "\n",
            "s = \"race a car\"\n",
            "print(is_palindrome(s))  # Output: False\n",
            "```\n",
            "\n",
            "Explanation:\n",
            "- The `re.sub(r'[^a-zA-Z0-9]', '', s)` function call removes all characters from the string `s` that are not alphanumeric.\n",
            "- The `.lower()` method converts all characters to lowercase to ensure case insensitivity.\n",
            "- `normalized_str[::-1]` is used to reverse the string, and comparing it to the original `normalized_str` determines if it is a palindrome.\n",
            "\n",
            "You can test this function with different strings to see if they are palindromes according to the given criteria.\n"
          ]
        }
      ]
    }
  ]
}