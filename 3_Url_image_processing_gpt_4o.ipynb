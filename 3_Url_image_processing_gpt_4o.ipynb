{
  "nbformat": 4,
  "nbformat_minor": 0,
  "metadata": {
    "colab": {
      "provenance": []
    },
    "kernelspec": {
      "name": "python3",
      "display_name": "Python 3"
    },
    "language_info": {
      "name": "python"
    }
  },
  "cells": [
    {
      "cell_type": "markdown",
      "source": [
        "**URL Image Processing**"
      ],
      "metadata": {
        "id": "F-tHLt8MMhop"
      }
    },
    {
      "cell_type": "code",
      "source": [
        "!pip install --upgrade openai --quiet"
      ],
      "metadata": {
        "colab": {
          "base_uri": "https://localhost:8080/"
        },
        "id": "zm3IT1mVMjhR",
        "outputId": "d038b17d-b0c8-47db-9ab1-dc32c8cc71e1"
      },
      "execution_count": null,
      "outputs": [
        {
          "output_type": "stream",
          "name": "stdout",
          "text": [
            "\u001b[2K     \u001b[90m━━━━━━━━━━━━━━━━━━━━━━━━━━━━━━━━━━━━━━━━\u001b[0m \u001b[32m320.6/320.6 kB\u001b[0m \u001b[31m2.1 MB/s\u001b[0m eta \u001b[36m0:00:00\u001b[0m\n",
            "\u001b[2K     \u001b[90m━━━━━━━━━━━━━━━━━━━━━━━━━━━━━━━━━━━━━━━━\u001b[0m \u001b[32m75.6/75.6 kB\u001b[0m \u001b[31m6.6 MB/s\u001b[0m eta \u001b[36m0:00:00\u001b[0m\n",
            "\u001b[2K     \u001b[90m━━━━━━━━━━━━━━━━━━━━━━━━━━━━━━━━━━━━━━━━\u001b[0m \u001b[32m77.9/77.9 kB\u001b[0m \u001b[31m8.1 MB/s\u001b[0m eta \u001b[36m0:00:00\u001b[0m\n",
            "\u001b[2K     \u001b[90m━━━━━━━━━━━━━━━━━━━━━━━━━━━━━━━━━━━━━━━━\u001b[0m \u001b[32m58.3/58.3 kB\u001b[0m \u001b[31m6.0 MB/s\u001b[0m eta \u001b[36m0:00:00\u001b[0m\n",
            "\u001b[?25h"
          ]
        }
      ]
    },
    {
      "cell_type": "code",
      "source": [
        "from google.colab import userdata\n",
        "OPEN_AI_KEY=userdata.get('opeaikey4o')"
      ],
      "metadata": {
        "id": "S5xEHTB2MumD"
      },
      "execution_count": null,
      "outputs": []
    },
    {
      "cell_type": "code",
      "source": [
        "from openai import OpenAI\n",
        "\n",
        "\n",
        "## Set the API key and model name\n",
        "MODEL=\"gpt-4o\"\n",
        "client = OpenAI(api_key=OPEN_AI_KEY)"
      ],
      "metadata": {
        "id": "sTF7-MRIMwZa"
      },
      "execution_count": null,
      "outputs": []
    },
    {
      "cell_type": "code",
      "source": [
        "response = client.chat.completions.create(\n",
        "    model=MODEL,\n",
        "    messages=[\n",
        "        {\"role\": \"system\", \"content\": \"You are a helpful assistant that responds in Markdown. Help me with my math homework!\"},\n",
        "        {\"role\": \"user\", \"content\": [\n",
        "            {\"type\": \"text\", \"text\": \"What's the area of the triangle?\"},\n",
        "            {\"type\": \"image_url\", \"image_url\": {\n",
        "                \"url\": \"https://upload.wikimedia.org/wikipedia/commons/e/e2/The_Algebra_of_Mohammed_Ben_Musa_-_page_82b.png\"}\n",
        "            }\n",
        "        ]}\n",
        "    ],\n",
        "    temperature=0.0,\n",
        ")\n",
        "\n",
        "print(response.choices[0].message.content)"
      ],
      "metadata": {
        "id": "z9n6CCD4M1a9",
        "outputId": "ea4a9c54-a62b-440f-f043-0959ec309ded",
        "colab": {
          "base_uri": "https://localhost:8080/"
        }
      },
      "execution_count": null,
      "outputs": [
        {
          "output_type": "stream",
          "name": "stdout",
          "text": [
            "To find the area of the triangle, we can use Heron's formula. Heron's formula states that the area of a triangle with sides of length \\(a\\), \\(b\\), and \\(c\\) is:\n",
            "\n",
            "\\[ \\text{Area} = \\sqrt{s(s-a)(s-b)(s-c)} \\]\n",
            "\n",
            "where \\(s\\) is the semi-perimeter of the triangle:\n",
            "\n",
            "\\[ s = \\frac{a + b + c}{2} \\]\n",
            "\n",
            "For the given triangle, the side lengths are \\(a = 5\\), \\(b = 6\\), and \\(c = 9\\).\n",
            "\n",
            "First, calculate the semi-perimeter \\(s\\):\n",
            "\n",
            "\\[ s = \\frac{5 + 6 + 9}{2} = \\frac{20}{2} = 10 \\]\n",
            "\n",
            "Now, apply Heron's formula:\n",
            "\n",
            "\\[ \\text{Area} = \\sqrt{10(10-5)(10-6)(10-9)} \\]\n",
            "\\[ \\text{Area} = \\sqrt{10 \\cdot 5 \\cdot 4 \\cdot 1} \\]\n",
            "\\[ \\text{Area} = \\sqrt{200} \\]\n",
            "\\[ \\text{Area} = 10\\sqrt{2} \\]\n",
            "\n",
            "So, the area of the triangle is \\(10\\sqrt{2}\\) square units.\n"
          ]
        }
      ]
    }
  ]
}