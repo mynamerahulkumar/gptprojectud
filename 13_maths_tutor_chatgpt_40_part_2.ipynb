{
  "nbformat": 4,
  "nbformat_minor": 0,
  "metadata": {
    "colab": {
      "provenance": []
    },
    "kernelspec": {
      "name": "python3",
      "display_name": "Python 3"
    },
    "language_info": {
      "name": "python"
    }
  },
  "cells": [
    {
      "cell_type": "markdown",
      "source": [
        "**GPT-4o (\"o\" for \"omni\") is designed to handle a combination of text, audio, and video inputs, and can generate outputs in text, audio, and image formats.**"
      ],
      "metadata": {
        "id": "4qSS3ryBIlKr"
      }
    },
    {
      "cell_type": "markdown",
      "source": [
        "**Background**\n",
        "*Before GPT-4o, users could interact with ChatGPT using Voice Mode, which operated with three separate models. GPT-4o will integrate these capabilities into a single model that's trained across text, vision, and audio. This unified approach ensures that all inputs—whether text, visual, or auditory—are processed cohesively by the same neural network.*"
      ],
      "metadata": {
        "id": "qMV7iM2sIpPA"
      }
    },
    {
      "cell_type": "markdown",
      "source": [
        "**Current API Capabilities**\n",
        "\n",
        "Currently, the API supports **{text, image}** inputs only, with **{text}** outputs, the same modalities as gpt-4-turbo. Additional modalities, including audio, will be introduced soon. This guide will help you get started with using GPT-4o for text, image, and video understanding."
      ],
      "metadata": {
        "id": "1ED6TWyhIxMN"
      }
    },
    {
      "cell_type": "markdown",
      "source": [
        "**Getting Started**\n",
        "Install OpenAI SDK for Python"
      ],
      "metadata": {
        "id": "eHTYHadpI4MW"
      }
    },
    {
      "cell_type": "markdown",
      "source": [
        "%pip install --upgrade openai --quiet"
      ],
      "metadata": {
        "id": "QJ0SOlINI9pb"
      }
    },
    {
      "cell_type": "code",
      "source": [
        "!pip install --upgrade openai --quiet"
      ],
      "metadata": {
        "id": "MUJHKisZJBSL"
      },
      "execution_count": null,
      "outputs": []
    },
    {
      "cell_type": "code",
      "source": [
        "from google.colab import userdata\n",
        "OPEN_AI_KEY=userdata.get('opeaikey4o')"
      ],
      "metadata": {
        "id": "ss8EuWjjJZvV"
      },
      "execution_count": null,
      "outputs": []
    },
    {
      "cell_type": "markdown",
      "source": [
        "**Configure the OpenAI client and submit a test request**\n",
        "To setup the client for our use, we need to create an API key to use with our request. Skip these steps if you already have an API key for usage.\n",
        "\n",
        "You can get an API key by following these steps:\n",
        "\n",
        "[Create a new project](https://help.openai.com/en/articles/9186755-managing-your-work-in-the-api-platform-with-projects)\n",
        "\n",
        "[Generate an API key in your project](https://platform.openai.com/api-keys)\n"
      ],
      "metadata": {
        "id": "3Qycnl7xJxJf"
      }
    },
    {
      "cell_type": "code",
      "source": [
        "from openai import OpenAI\n",
        "\n",
        "\n",
        "## Set the API key and model name\n",
        "MODEL=\"gpt-4o\"\n",
        "client = OpenAI(api_key=OPEN_AI_KEY)"
      ],
      "metadata": {
        "id": "MFicyIEQKMPS"
      },
      "execution_count": null,
      "outputs": []
    },
    {
      "cell_type": "code",
      "source": [
        "completion = client.chat.completions.create(\n",
        "  model=MODEL,\n",
        "  messages=[\n",
        "    {\"role\": \"system\", \"content\": \"You are a helpful Maths assistant. Help me with my math homework!\"}, # <-- This is the system message that provides context to the model\n",
        "    {\"role\": \"user\", \"content\": \"Explain and solve this question-Adrianna has 10 pieces of gum to share with her friends. There wasn’t enough gum for all her friends, so she went to the store and got 70 pieces of strawberry gum and 10 pieces of bubble gum. How many pieces of gum does Adrianna have now?\"}  # <-- This is the user message for which the model will generate a response\n",
        "  ]\n",
        ")\n",
        "\n",
        "print(\"Assistant: \" + completion.choices[0].message.content)"
      ],
      "metadata": {
        "colab": {
          "base_uri": "https://localhost:8080/"
        },
        "id": "IHglNnO1KW15",
        "outputId": "b8eedf62-3763-4ca9-e98b-97614c468c29"
      },
      "execution_count": null,
      "outputs": [
        {
          "output_type": "stream",
          "name": "stdout",
          "text": [
            "Assistant: To find out how many pieces of gum Adrianna has now, we need to add the number of pieces she initially had to the number of pieces she got from the store.\n",
            "\n",
            "1. Initially, Adrianna had 10 pieces of gum.\n",
            "\n",
            "2. At the store, she got:\n",
            "   * 70 pieces of strawberry gum\n",
            "   * 10 pieces of bubble gum\n",
            "\n",
            "Let's calculate the total number of pieces she got from the store:\n",
            "\\[ 70 \\text{ pieces of strawberry gum} + 10 \\text{ pieces of bubble gum} = 80 \\text{ pieces of gum} \\]\n",
            "\n",
            "Now, add this to the number of pieces she originally had:\n",
            "\\[ 10 \\text{ pieces of gum} + 80 \\text{ pieces of gum} = 90 \\text{ pieces of gum} \\]\n",
            "\n",
            "So, Adrianna now has 90 pieces of gum.\n"
          ]
        }
      ]
    }
  ]
}