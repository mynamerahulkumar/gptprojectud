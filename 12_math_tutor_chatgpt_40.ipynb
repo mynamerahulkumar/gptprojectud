{
  "nbformat": 4,
  "nbformat_minor": 0,
  "metadata": {
    "colab": {
      "provenance": []
    },
    "kernelspec": {
      "name": "python3",
      "display_name": "Python 3"
    },
    "language_info": {
      "name": "python"
    }
  },
  "cells": [
    {
      "cell_type": "markdown",
      "source": [
        "**GPT-4o (\"o\" for \"omni\") is designed to handle a combination of text, audio, and video inputs, and can generate outputs in text, audio, and image formats.**"
      ],
      "metadata": {
        "id": "4qSS3ryBIlKr"
      }
    },
    {
      "cell_type": "markdown",
      "source": [
        "**Background**\n",
        "*Before GPT-4o, users could interact with ChatGPT using Voice Mode, which operated with three separate models. GPT-4o will integrate these capabilities into a single model that's trained across text, vision, and audio. This unified approach ensures that all inputs—whether text, visual, or auditory—are processed cohesively by the same neural network.*"
      ],
      "metadata": {
        "id": "qMV7iM2sIpPA"
      }
    },
    {
      "cell_type": "markdown",
      "source": [
        "**Current API Capabilities**\n",
        "\n",
        "Currently, the API supports **{text, image}** inputs only, with **{text}** outputs, the same modalities as gpt-4-turbo. Additional modalities, including audio, will be introduced soon. This guide will help you get started with using GPT-4o for text, image, and video understanding."
      ],
      "metadata": {
        "id": "1ED6TWyhIxMN"
      }
    },
    {
      "cell_type": "markdown",
      "source": [
        "**Getting Started**\n",
        "Install OpenAI SDK for Python"
      ],
      "metadata": {
        "id": "eHTYHadpI4MW"
      }
    },
    {
      "cell_type": "markdown",
      "source": [
        "%pip install --upgrade openai --quiet"
      ],
      "metadata": {
        "id": "QJ0SOlINI9pb"
      }
    },
    {
      "cell_type": "code",
      "source": [
        "!pip install --upgrade openai --quiet"
      ],
      "metadata": {
        "id": "MUJHKisZJBSL"
      },
      "execution_count": null,
      "outputs": []
    },
    {
      "cell_type": "code",
      "source": [
        "from google.colab import userdata\n",
        "OPEN_AI_KEY=userdata.get('opeaikey4o')"
      ],
      "metadata": {
        "id": "ss8EuWjjJZvV"
      },
      "execution_count": null,
      "outputs": []
    },
    {
      "cell_type": "markdown",
      "source": [
        "**Configure the OpenAI client and submit a test request**\n",
        "To setup the client for our use, we need to create an API key to use with our request. Skip these steps if you already have an API key for usage.\n",
        "\n",
        "You can get an API key by following these steps:\n",
        "\n",
        "[Create a new project](https://help.openai.com/en/articles/9186755-managing-your-work-in-the-api-platform-with-projects)\n",
        "\n",
        "[Generate an API key in your project](https://platform.openai.com/api-keys)\n"
      ],
      "metadata": {
        "id": "3Qycnl7xJxJf"
      }
    },
    {
      "cell_type": "code",
      "source": [
        "from openai import OpenAI\n",
        "\n",
        "\n",
        "## Set the API key and model name\n",
        "MODEL=\"gpt-4o\"\n",
        "client = OpenAI(api_key=OPEN_AI_KEY)"
      ],
      "metadata": {
        "id": "MFicyIEQKMPS"
      },
      "execution_count": null,
      "outputs": []
    },
    {
      "cell_type": "code",
      "source": [
        "completion = client.chat.completions.create(\n",
        "  model=MODEL,\n",
        "  messages=[\n",
        "    {\"role\": \"system\", \"content\": \"You are a helpful Maths assistant. Help me with my math homework!\"}, # <-- This is the system message that provides context to the model\n",
        "    {\"role\": \"user\", \"content\": \"What is pythagoreous theorem  explain it with example?\"}  # <-- This is the user message for which the model will generate a response\n",
        "  ]\n",
        ")\n",
        "\n",
        "print(\"Assistant: \" + completion.choices[0].message.content)"
      ],
      "metadata": {
        "colab": {
          "base_uri": "https://localhost:8080/"
        },
        "id": "IHglNnO1KW15",
        "outputId": "f12fdde7-fc32-4aa4-e4b2-791a7a9f68ff"
      },
      "execution_count": null,
      "outputs": [
        {
          "output_type": "stream",
          "name": "stdout",
          "text": [
            "Assistant: Sure! The Pythagorean Theorem is a fundamental principle in geometry that relates the lengths of the sides of a right triangle. A right triangle is a triangle that has one angle measuring 90 degrees.\n",
            "\n",
            "The theorem states that in a right triangle, the square of the length of the hypotenuse (the side opposite the 90-degree angle) is equal to the sum of the squares of the lengths of the other two sides. The mathematical formula is:\n",
            "\n",
            "\\[ a^2 + b^2 = c^2 \\]\n",
            "\n",
            "Where:\n",
            "- \\( a \\) and \\( b \\) are the lengths of the legs (the two sides that form the right angle).\n",
            "- \\( c \\) is the length of the hypotenuse.\n",
            "\n",
            "### Example\n",
            "\n",
            "Let's say we have a right triangle with the legs measuring 3 units and 4 units. We want to find the length of the hypotenuse.\n",
            "\n",
            "According to the Pythagorean Theorem, we have:\n",
            "\n",
            "\\[ a = 3 \\]\n",
            "\\[ b = 4 \\]\n",
            "\\[ c = ? \\] (the hypotenuse)\n",
            "\n",
            "Applying the formula:\n",
            "\n",
            "\\[ a^2 + b^2 = c^2 \\]\n",
            "\\[ 3^2 + 4^2 = c^2 \\]\n",
            "\\[ 9 + 16 = c^2 \\]\n",
            "\\[ 25 = c^2 \\]\n",
            "\n",
            "To find \\( c \\), we take the square root of both sides:\n",
            "\n",
            "\\[ c = \\sqrt{25} \\]\n",
            "\\[ c = 5 \\]\n",
            "\n",
            "So, the length of the hypotenuse is 5 units.\n",
            "\n",
            "### Visualization\n",
            "\n",
            "Imagine a right triangle where one leg is along the x-axis with a length of 3 units, and the other leg is along the y-axis with a length of 4 units. The hypotenuse would form the line connecting the endpoints of these two legs, forming a right triangle. According to the Pythagorean Theorem, the length of this line would be 5 units.\n",
            "\n",
            "The Pythagorean Theorem is widely used in various fields such as physics, engineering, computer science, and even in everyday problem-solving tasks.\n"
          ]
        }
      ]
    }
  ]
}